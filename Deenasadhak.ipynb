{
 "cells": [
  {
   "cell_type": "code",
   "execution_count": 1,
   "metadata": {},
   "outputs": [
    {
     "name": "stdout",
     "output_type": "stream",
     "text": [
      "9\n",
      " Hello Deenasadhak\n",
      "['Apple', 'Mango', 'Banana', 'Grapes']\n",
      "[1, 9, 25, 36, 64]\n",
      "[2, 4, 6]\n",
      "24\n",
      "Area of rectangle: 20\n",
      "Area of circle: 153.86\n"
     ]
    }
   ],
   "source": [
    "# Lambda\n",
    "\n",
    "# simple addition\n",
    "add = lambda a,b : a+b\n",
    "result = add(5,4)\n",
    "print(result)\n",
    "\n",
    "# String Formatting\n",
    "greeting = lambda name : f\" Hello {name}\"\n",
    "message = greeting(\"Deenasadhak\")\n",
    "print(message)\n",
    "\n",
    "# Sorting a list\n",
    "fruits = [\"Apple\",\"Banana\",\"Mango\",\"Grapes\"]\n",
    "sorted_words = sorted(fruits,key = lambda word: len(word))\n",
    "print(sorted_words)\n",
    "\n",
    "# map()\n",
    "numbers = [1,3,5,6,8]\n",
    "squared_numbers = map(lambda x: x**2,numbers)\n",
    "print(list(squared_numbers))\n",
    "\n",
    "# filter()\n",
    "numbers = [1,2,3,4,5,6,7]\n",
    "even_number = filter(lambda x: x%2==0,numbers)\n",
    "print(list(even_number))\n",
    "\n",
    "# reduce()\n",
    "from functools import reduce\n",
    "numbers = [1,2,3,4]\n",
    "product = reduce(lambda x,y: x*y,numbers)\n",
    "print(product)\n",
    "\n",
    "# Area Calculator\n",
    "def calculate_area(shape,dimension):\n",
    "    if shape == \"rectangle\":\n",
    "        if \"length\" in dimension and \"breadth\" in dimension:\n",
    "            length = dimension[\"length\"]\n",
    "            breadth = dimension[\"breadth\"]\n",
    "            area = lambda x,y: x*y\n",
    "            result = area(length,breadth)\n",
    "            return result\n",
    "        \n",
    "    elif shape == \"circle\":\n",
    "        if \"radius\" in dimension:\n",
    "            radius = dimension[\"radius\"]\n",
    "            area = lambda x: 3.14*x*x\n",
    "            result = area(radius)\n",
    "            return result\n",
    "        \n",
    "    else:\n",
    "        print(\"Enter valid shape.\")\n",
    "    \n",
    "area=calculate_area(\"rectangle\",{\"length\":5,\"breadth\":4})\n",
    "print(\"Area of rectangle:\",area)\n",
    "\n",
    "area = calculate_area(\"circle\",{\"radius\":7})\n",
    "print(\"Area of circle:\",area)"
   ]
  }
 ],
 "metadata": {
  "kernelspec": {
   "display_name": "Python 3",
   "language": "python",
   "name": "python3"
  },
  "language_info": {
   "codemirror_mode": {
    "name": "ipython",
    "version": 3
   },
   "file_extension": ".py",
   "mimetype": "text/x-python",
   "name": "python",
   "nbconvert_exporter": "python",
   "pygments_lexer": "ipython3",
   "version": "3.11.9"
  },
  "orig_nbformat": 4
 },
 "nbformat": 4,
 "nbformat_minor": 2
}
